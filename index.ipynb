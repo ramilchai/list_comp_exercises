{
 "cells": [
  {
   "cell_type": "markdown",
   "metadata": {},
   "source": [
    "# List Comprehension Exercise"
   ]
  },
  {
   "cell_type": "markdown",
   "metadata": {},
   "source": [
    "From the [docs](https://docs.python.org/3/tutorial/datastructures.html#list-comprehensions): List comprehensions provide a concise way to create lists. Common applications are to make new lists where each element is the result of some operations applied to each member of another sequence or iterable, or to create a subsequence of those elements that satisfy a certain condition.\n"
   ]
  },
  {
   "cell_type": "code",
   "execution_count": 1,
   "metadata": {},
   "outputs": [],
   "source": [
    "import pickle \n",
    "import numpy as np\n",
    "import pandas as pd\n",
    "\n",
    "with open('data/scrabble_201617.p', 'rb') as read_file:\n",
    "    scrabble = pickle.load(read_file)"
   ]
  },
  {
   "cell_type": "markdown",
   "metadata": {},
   "source": [
    "\n",
    "A list comprehension creates a new list out of an iterable.  Instead of creating an empty list outside of a for-loop which you populate with `.append` or `.extend`, you can often do the same thing in one line.\n",
    "\n",
    "For an example, let's create a new list which consists of the years of the Scrabble games in the dataset.  To do so, we could use a for loop like so.\n"
   ]
  },
  {
   "cell_type": "code",
   "execution_count": 2,
   "metadata": {},
   "outputs": [
    {
     "name": "stdout",
     "output_type": "stream",
     "text": [
      "(array(['2016', '2017'], dtype='<U4'), array([40696,  6764], dtype=int64))\n"
     ]
    }
   ],
   "source": [
    "date_list = list(scrabble['date'])\n",
    "\n",
    "years = []\n",
    "for date in date_list:\n",
    "    years.append(date[:4])\n",
    "\n",
    "print(np.unique(years, return_counts=True))"
   ]
  },
  {
   "cell_type": "markdown",
   "metadata": {},
   "source": [
    "We can see from the value counts that we have 40,696 games that occured in 2016, and 6,764 that occured in 2017"
   ]
  },
  {
   "cell_type": "markdown",
   "metadata": {},
   "source": [
    "\n",
    "Now let's reproduce that result with a list comprehension.\n",
    "Fill in the list comprehension below with the appropriate code.\n",
    "The first fill should be the operation you want to perform (slicing the list). The second should be a variable name assigned to represent each element of the iterable.  The last should be the iterable you want to iterate over.\n"
   ]
  },
  {
   "cell_type": "code",
   "execution_count": 3,
   "metadata": {},
   "outputs": [],
   "source": [
    "# Fill in the fills between the brackets\n",
    "years_list_comp = [ year[:4] for year  in date_list ]"
   ]
  },
  {
   "cell_type": "code",
   "execution_count": 4,
   "metadata": {},
   "outputs": [
    {
     "name": "stdout",
     "output_type": "stream",
     "text": [
      "Correct. The list comprehension creates the same list.\n"
     ]
    }
   ],
   "source": [
    "assert years == years_list_comp\n",
    "print('Correct. The list comprehension creates the same list.')"
   ]
  },
  {
   "cell_type": "markdown",
   "metadata": {},
   "source": [
    "\n",
    "We can perform any operation which can receive the type of element in the list as an argument.\n",
    "\n",
    "Let's now use the `pd.to_datetime()` to convert the dates in date_list to date_time_objects.\n"
   ]
  },
  {
   "cell_type": "code",
   "execution_count": 5,
   "metadata": {},
   "outputs": [],
   "source": [
    "# Fill in the list comprehension\n",
    "dates_datetime = [pd.to_datetime(date) for date in date_list]"
   ]
  },
  {
   "cell_type": "code",
   "execution_count": 6,
   "metadata": {},
   "outputs": [
    {
     "name": "stdout",
     "output_type": "stream",
     "text": [
      "Correct. All of the objects are now datetime objects.\n"
     ]
    }
   ],
   "source": [
    "assert type(np.random.choice(dates_datetime)) ==  type(pd.to_datetime('2020-04-26'))\n",
    "print(\"Correct. All of the objects are now datetime objects.\")"
   ]
  },
  {
   "cell_type": "markdown",
   "metadata": {},
   "source": [
    "List comprehension can also use logic.  Before the `for` keyword, you can add `if-else` statements to regulate which elements are selected."
   ]
  },
  {
   "cell_type": "code",
   "execution_count": 7,
   "metadata": {},
   "outputs": [
    {
     "name": "stdout",
     "output_type": "stream",
     "text": [
      "\n",
      "The 95th percentile of player ratings of players who lost a game is 1899.0\n",
      "Create a list of booleans for each element, where True represents loseroldratings whose rating is greater than or equal to the 95th percentile, and False is less than the 95th percentile.\n",
      "\n"
     ]
    }
   ],
   "source": [
    "print(f'''\n",
    "The 95th percentile of player ratings of players who lost a game is {scrabble['loseroldrating'].quantile(.95)}\n",
    "Create a list of booleans for each element, where True represents loseroldratings whose rating is greater than or equal to the 95th percentile, and False is less than the 95th percentile.\n",
    "''')"
   ]
  },
  {
   "cell_type": "code",
   "execution_count": 8,
   "metadata": {},
   "outputs": [],
   "source": [
    "lor = list(scrabble['loseroldrating'])\n",
    "ninetyfifth_p =  scrabble['loseroldrating'].quantile(.95)"
   ]
  },
  {
   "cell_type": "code",
   "execution_count": 10,
   "metadata": {},
   "outputs": [],
   "source": [
    "# Fill in the list comprehension as instructed above\n",
    "lor_95 = [True if x >= ninetyfifth_p else False for x in lor ]"
   ]
  },
  {
   "cell_type": "code",
   "execution_count": 11,
   "metadata": {},
   "outputs": [
    {
     "name": "stdout",
     "output_type": "stream",
     "text": [
      "Correct\n"
     ]
    }
   ],
   "source": [
    "assert sum(lor_95) == 2379\n",
    "print('Correct')"
   ]
  },
  {
   "cell_type": "markdown",
   "metadata": {},
   "source": [
    "We can also use the `zip` operator in list comprehensions.  This requires two variable names in the `for` clause of the statement.\n",
    "\n",
    "Use `zip` and a list comprehension to make a new list comprised of the difference between `winneroldrating` and `loseroldrating`."
   ]
  },
  {
   "cell_type": "code",
   "execution_count": 12,
   "metadata": {},
   "outputs": [],
   "source": [
    "wor = list(scrabble['winneroldrating'])\n",
    "lor = list(scrabble['loseroldrating'])\n",
    "\n",
    "rating_difference = [w - l for w, l in zip(wor, lor)]"
   ]
  },
  {
   "cell_type": "code",
   "execution_count": 13,
   "metadata": {},
   "outputs": [
    {
     "name": "stdout",
     "output_type": "stream",
     "text": [
      "Correct! Nice job.\n"
     ]
    }
   ],
   "source": [
    "assert sum(rating_difference) == 4093066\n",
    "print(\"Correct! Nice job.\")"
   ]
  },
  {
   "cell_type": "code",
   "execution_count": null,
   "metadata": {},
   "outputs": [],
   "source": []
  }
 ],
 "metadata": {
  "kernelspec": {
   "display_name": "Python (learn-env)",
   "language": "python",
   "name": "learn-env"
  },
  "language_info": {
   "codemirror_mode": {
    "name": "ipython",
    "version": 3
   },
   "file_extension": ".py",
   "mimetype": "text/x-python",
   "name": "python",
   "nbconvert_exporter": "python",
   "pygments_lexer": "ipython3",
   "version": "3.8.5"
  }
 },
 "nbformat": 4,
 "nbformat_minor": 4
}
